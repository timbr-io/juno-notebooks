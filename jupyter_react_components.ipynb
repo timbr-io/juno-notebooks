{
 "cells": [
  {
   "cell_type": "markdown",
   "metadata": {},
   "source": [
    "# Jupyter React Components\n",
    "\n",
    "This notebook discusses the potential creation and use of a React style Notebook Extension. The demo uses the `juno-magic` package as a Proof-of-Concept.\n",
    "\n",
    "## Concept \n",
    "\n",
    "The goal of this work is to create an extensible pattern for utilizing React components in a notebook, but have them driven and built by Python on the backend. \n",
    "\n",
    "\n",
    "## Communication \n",
    "\n",
    "### Comms\n",
    "\n",
    "Communication between the back-end (python) and front-end (javascript) is handling via custom jupyter `comms`. These are custom messages that can be used to easily link back-end components to front-end components via the websocket based Jupyter Messaging Protocol. \n",
    "\n",
    "<img src=\"./pyreact1.png\" width=\"400\" height=\"200\" />\n",
    "\n",
    "\n",
    "### Dispatching \n",
    "\n",
    "On the javascript side React components are initialized with a single comm (each component opens a new comm) so that they can directly send messages back to python if/when their state changes. When messages are sent over comms from Python a central dispatch and relay events and broadcast them to all created components. This way each React component on the front can trigger central dispatches and force re-renders of other components. Everything becomes connectable via the central dispatch.\n",
    "\n",
    "\n",
    "## Messaging \n",
    "\n",
    "When python components need to communicate with JS components they send messages over the components `comm`. These messages provide a `method` (ie `{'method': 'display'}`) and any additional data or props that the JS may need or want.  \n",
    "\n",
    "### Display\n",
    "\n",
    "When the ipython method `display` is called on a Python component the corresponding JS component reacts by rendering itself to the DOM. Javascript components are rendered to either a domId (provided by python via the display call) or to a cell's output subarea (default).     \n",
    "\n",
    "### Update \n",
    "\n",
    "Using an `observer` pattern on properties of the Python based components allows for messages to pass over comms whenever Python objects change. This means that if a property in Python is updated/changed the front-end components can react to those changes by listening for events over the open comms.\n",
    "\n",
    "When a property on a python component is updated or changed it will send a message with the `update` method. The javascript components listen for the `update` and `dispatch` an event. The dispatched events are used to update the state of React Components and hence force updates on the components when needed.  \n",
    "\n",
    "### Architecture\n",
    "\n",
    "The architecture consists of loosely coupled components on the back-end and front-end. The back-end instantiates new components, which opens up new comms, which then instantiates new JS components. \n",
    "\n",
    "<img src=\"./pyreact_arch.png\" width=\"600\" height=\"400\" />\n"
   ]
  },
  {
   "cell_type": "markdown",
   "metadata": {},
   "source": [
    "## Demo: juno_magic\n",
    "\n",
    "To showcase a proof-of-concept we've built the pattern using the juno_magic package as a use case. There are 2 components built in the POC: `Status` and `List`. The Status component renders a react component to the `kernel_status_indicator` in the notebook menubar. The List component renders a list of kernels to the cell's output area. \n",
    "\n",
    "### Status\n",
    "\n",
    "The status component shows the ability of a REact component to bind to the central dispatch, update its state, and then re-render itself. In the case of Juno kernels when the remote kernels execution state changes (from idle to busy and back) an update message is sent over the comm with the new status. The component dispatches the update event and the status view updates and re-renders.\n",
    "\n",
    "Also, the status component is initialized in the `__init__` method of the juno_magic. So when the extension is loaded the status component is rendered and binds itself to \"status_update\" events.  "
   ]
  },
  {
   "cell_type": "code",
   "execution_count": 6,
   "metadata": {
    "collapsed": false,
    "scrolled": false
   },
   "outputs": [],
   "source": [
    "%reload_ext autoreload\n",
    "%autoreload 2\n",
    "%reload_ext juno_magic"
   ]
  },
  {
   "cell_type": "markdown",
   "metadata": {},
   "source": [
    "### List\n",
    "\n",
    "When the juno list method is called it instantiates a new List component in python (and a new comm is opened and JS component created). The list component shows off the bi-directional communication of comms. When a list items button is clicked a JS method is invoked, which triggers a message to be sent to the back-end over the comm. \n",
    "\n",
    "The python component reacts by creating a new cell and inserting/executing code (to select the kernel)."
   ]
  },
  {
   "cell_type": "code",
   "execution_count": 7,
   "metadata": {
    "collapsed": false
   },
   "outputs": [
    {
     "name": "stdout",
     "output_type": "stream",
     "text": [
      "Successfully connected to wss://juno.timbr.io/wamp/route\n"
     ]
    },
    {
     "data": {
      "application/vnd.jupyter.widget": "List"
     },
     "metadata": {},
     "output_type": "display_data"
    }
   ],
   "source": [
    "%juno list"
   ]
  },
  {
   "cell_type": "code",
   "execution_count": 8,
   "metadata": {
    "collapsed": false
   },
   "outputs": [
    {
     "name": "stdout",
     "output_type": "stream",
     "text": [
      "No previous subscriptions\n",
      "Kernel selected [io.timbr.kernel.924e80dd-11f6-42d8-9f26-1202be63d184]\n"
     ]
    }
   ],
   "source": [
    "%juno select 'GBDx Demo'"
   ]
  },
  {
   "cell_type": "markdown",
   "metadata": {},
   "source": [
    "## Updating Status\n",
    "\n",
    "When code is executed on the remote kernel the execution state changes from \"idle\" to \"busy\" and then back. This causes the react component to update its states and re-render what it needs to."
   ]
  },
  {
   "cell_type": "code",
   "execution_count": 9,
   "metadata": {
    "collapsed": false
   },
   "outputs": [
    {
     "data": {
      "text/plain": [
       "hello remote kernel\n"
      ]
     },
     "metadata": {
      "echo": true
     },
     "output_type": "display_data"
    }
   ],
   "source": [
    "%%juno\n",
    "\n",
    "import time\n",
    "time.sleep(3)\n",
    "print 'hello remote kernel'\n"
   ]
  },
  {
   "cell_type": "code",
   "execution_count": null,
   "metadata": {
    "collapsed": true
   },
   "outputs": [],
   "source": []
  }
 ],
 "metadata": {
  "kernelspec": {
   "display_name": "Python 2",
   "language": "python",
   "name": "python2"
  },
  "language_info": {
   "codemirror_mode": {
    "name": "ipython",
    "version": 2
   },
   "file_extension": ".py",
   "mimetype": "text/x-python",
   "name": "python",
   "nbconvert_exporter": "python",
   "pygments_lexer": "ipython2",
   "version": "2.7.11"
  },
  "timbr_enabled": false
 },
 "nbformat": 4,
 "nbformat_minor": 0
}
