{
 "cells": [
  {
   "cell_type": "markdown",
   "metadata": {},
   "source": [
    "## Timbr Machine Usage and Status Inspection\n",
    "\n",
    "Timbr Machine is a data ingestion and computation tool that can be programmed for linear-like data-pipeline processing. It was be run with juno-magic remotely. A running machine comprises many dynamic processes, and some kind of introspection into the state of the machine is necessary tool for understanding its behavior. This notebook uses a test-case machine instance to demonstrate a basic implementation of a status inspection and discusses the structure used to maintain state information."
   ]
  },
  {
   "cell_type": "code",
   "execution_count": 1,
   "metadata": {
    "collapsed": false
   },
   "outputs": [],
   "source": [
    "from timbr.machine import Machine"
   ]
  },
  {
   "cell_type": "markdown",
   "metadata": {},
   "source": [
    "### A test-case: streaming twitter as a source"
   ]
  },
  {
   "cell_type": "markdown",
   "metadata": {},
   "source": [
    "Our test case puts tweets onto the machine queue at a high rate. We included a function that throws an arbitrary error every 31 tweets as a particular model test-case that might be expected to inform the structure and presentation of the machine status."
   ]
  },
  {
   "cell_type": "code",
   "execution_count": 2,
   "metadata": {
    "collapsed": false
   },
   "outputs": [],
   "source": [
    "from twython import TwythonStreamer\n",
    "import collections\n",
    "from threading import Thread\n",
    "\n",
    "from __future__ import print_function\n",
    "from textblob import TextBlob\n",
    "\n",
    "MACHINE = Machine()\n",
    "MACHINE.start()\n",
    "\n",
    "def raise_error_every_now_and_then(x):\n",
    "    if recent_data._count > 1 and recent_data._count % 31 == 0:\n",
    "        raise TypeError\n",
    "\n",
    "MACHINE[0] = lambda x: x.get(\"text\", \"\")\n",
    "MACHINE[1] = lambda x: TextBlob(x).sentiment\n",
    "MACHINE[2] = lambda a, b: recent_data.append((b, a))\n",
    "MACHINE[3] = raise_error_every_now_and_then\n",
    "\n",
    "class CountingDeque(collections.deque):\n",
    "    def __init__(self, *args, **kwargs):\n",
    "        self._count = 0\n",
    "        super(CountingDeque, self).__init__(*args, **kwargs)\n",
    "    \n",
    "    def append(self, *args):\n",
    "        super(CountingDeque, self).append(*args)\n",
    "        self._count += 1        \n",
    "        \n",
    "recent_data = CountingDeque(maxlen=50)\n",
    "#thatsdogs\n",
    "app_key = \"is4Leas6P8ajv4ERNojyJ7psg\"\n",
    "app_secret = \"JIb2EEGWbE6NmS4NbdMCARfoCONdYxwG6mfnLY9Z61Q9ZkM9cD\"\n",
    "access_token = \"1881035263-ghn9BPqkY4PMyVdfsuaNEeTYBtRXwfKo8Op07Cw\"\n",
    "token_secret = \"uKrTloEChEQWShUfU3FS9ejXyi906HjHbsB4T4QDtE7HW\"\n",
    "\n",
    "class Streamer(TwythonStreamer):\n",
    "    \n",
    "    def on_success(self, data):\n",
    "        #print data\n",
    "        MACHINE.put(data)\n",
    "        \n",
    "#     def on_error(self, status_code, data):\n",
    "#         MACHINE.put({\"error\": status_code})\n",
    "try:\n",
    "    streamer.disconnect()\n",
    "    del streamer\n",
    "except Exception:\n",
    "    pass\n",
    "streamer = Streamer(app_key, app_secret, access_token, token_secret)\n",
    "streamthread = Thread(target= streamer.statuses.filter, kwargs={\"track\": \"trump\"})\n",
    "streamthread.start()"
   ]
  },
  {
   "cell_type": "code",
   "execution_count": 7,
   "metadata": {
    "collapsed": false
   },
   "outputs": [
    {
     "data": {
      "text/plain": [
       "359"
      ]
     },
     "execution_count": 7,
     "metadata": {},
     "output_type": "execute_result"
    },
    {
     "name": "stderr",
     "output_type": "stream",
     "text": [
      "Exception in thread Thread-16:\n",
      "Traceback (most recent call last):\n",
      "  File \"/Users/jamiepolackwich1/anaconda/envs/juno-machine/lib/python2.7/threading.py\", line 801, in __bootstrap_inner\n",
      "    self.run()\n",
      "  File \"/Users/jamiepolackwich1/anaconda/envs/juno-machine/lib/python2.7/threading.py\", line 754, in run\n",
      "    self.__target(*self.__args, **self.__kwargs)\n",
      "  File \"/Users/jamiepolackwich1/anaconda/envs/juno-machine/lib/python2.7/site-packages/twython/streaming/types.py\", line 66, in filter\n",
      "    self.streamer._request(url, 'POST', params=params)\n",
      "  File \"/Users/jamiepolackwich1/anaconda/envs/juno-machine/lib/python2.7/site-packages/twython/streaming/api.py\", line 141, in _request\n",
      "    for line in response.iter_lines(self.chunk_size):\n",
      "  File \"/Users/jamiepolackwich1/anaconda/envs/juno-machine/lib/python2.7/site-packages/requests-2.10.0-py2.7.egg/requests/models.py\", line 706, in iter_lines\n",
      "    for chunk in self.iter_content(chunk_size=chunk_size, decode_unicode=decode_unicode):\n",
      "  File \"/Users/jamiepolackwich1/anaconda/envs/juno-machine/lib/python2.7/site-packages/requests-2.10.0-py2.7.egg/requests/models.py\", line 667, in generate\n",
      "    raise ChunkedEncodingError(e)\n",
      "ChunkedEncodingError: ('Connection broken: IncompleteRead(0 bytes read, 1 more expected)', IncompleteRead(0 bytes read, 1 more expected))\n",
      "\n"
     ]
    }
   ],
   "source": []
  },
  {
   "cell_type": "markdown",
   "metadata": {},
   "source": [
    "Admittedtly, that's an unexpected error, and I'm just going to leave this here because it's exactly the kind of thing that's useful for this notebook. "
   ]
  },
  {
   "cell_type": "markdown",
   "metadata": {},
   "source": [
    "### Checking machine status"
   ]
  },
  {
   "cell_type": "markdown",
   "metadata": {},
   "source": [
    "In the meantime, we can check if the machine is still running by checking the running property on the machine instance:"
   ]
  },
  {
   "cell_type": "code",
   "execution_count": 8,
   "metadata": {
    "collapsed": false
   },
   "outputs": [
    {
     "data": {
      "text/plain": [
       "True"
      ]
     },
     "execution_count": 8,
     "metadata": {},
     "output_type": "execute_result"
    }
   ],
   "source": [
    "MACHINE.running"
   ]
  },
  {
   "cell_type": "markdown",
   "metadata": {},
   "source": [
    "This property checks whether the actual thread that's running the data consumption is still active. The MachineConsumer which runs there takes data off of a queue and submits it to a dask task graph running synchronously. "
   ]
  },
  {
   "cell_type": "code",
   "execution_count": 3,
   "metadata": {
    "collapsed": false
   },
   "outputs": [
    {
     "data": {
      "text/plain": [
       "False"
      ]
     },
     "execution_count": 3,
     "metadata": {},
     "output_type": "execute_result"
    }
   ],
   "source": [
    "MACHINE.stop()\n",
    "MACHINE.running"
   ]
  },
  {
   "cell_type": "code",
   "execution_count": 4,
   "metadata": {
    "collapsed": true
   },
   "outputs": [],
   "source": [
    "try:\n",
    "    streamer.disconnect()\n",
    "    del streamer\n",
    "except Exception:\n",
    "    pass"
   ]
  },
  {
   "cell_type": "markdown",
   "metadata": {},
   "source": [
    "State information is maintained in a dictionary as a class attribute created on initiation:"
   ]
  },
  {
   "cell_type": "code",
   "execution_count": null,
   "metadata": {
    "collapsed": true
   },
   "outputs": [],
   "source": [
    "class BaseMachine(object):\n",
    "    def __init__(self, ...)\n",
    "    ...\n",
    "    self._status = {\"LastOID\": None, \"Processed\": 0, \"Errored\": [], \"QueueSize\": self.q.qsize()}\n"
   ]
  },
  {
   "cell_type": "markdown",
   "metadata": {},
   "source": [
    "The structure maintains a current data consumption ID, the ID of the previously consumed data, the number of data consumed by the machine, a list of errros and the current size of the queue the consumer gets from."
   ]
  },
  {
   "cell_type": "markdown",
   "metadata": {
    "collapsed": false,
    "scrolled": true
   },
   "source": [
    "These data are updated in real time with each put and get of the pipline process. Status is updated on every MachineConsumer get, which waits on the actual dask graph to process, and records information about the data consumed. Total data processed works like a counter, even when errors are processed (talk about shortly)."
   ]
  },
  {
   "cell_type": "markdown",
   "metadata": {},
   "source": [
    "Notably, infomrmation about errors raised in the dask are not presented here, but they are recorded in the status strcuture when they occur, along with the function that raised them:"
   ]
  },
  {
   "cell_type": "code",
   "execution_count": 7,
   "metadata": {
    "collapsed": false
   },
   "outputs": [
    {
     "data": {
      "text/plain": [
       "{'Errored': [{'f3': {'err': 'TypeError()',\n",
       "    'errtime': '2016-07-20T14:06:25+00:00',\n",
       "    'oid': '578f8561f351e181e43c4324'}},\n",
       "  {'f3': {'err': 'TypeError()',\n",
       "    'errtime': '2016-07-20T14:06:27+00:00',\n",
       "    'oid': '578f8563f351e181e43c4343'}},\n",
       "  {'f3': {'err': 'TypeError()',\n",
       "    'errtime': '2016-07-20T14:06:30+00:00',\n",
       "    'oid': '578f8566f351e181e43c4362'}},\n",
       "  {'f3': {'err': 'TypeError()',\n",
       "    'errtime': '2016-07-20T14:06:32+00:00',\n",
       "    'oid': '578f8568f351e181e43c4381'}},\n",
       "  {'f3': {'err': 'TypeError()',\n",
       "    'errtime': '2016-07-20T14:06:34+00:00',\n",
       "    'oid': '578f856af351e181e43c43a0'}},\n",
       "  {'f3': {'err': 'TypeError()',\n",
       "    'errtime': '2016-07-20T14:06:36+00:00',\n",
       "    'oid': '578f856cf351e181e43c43bf'}}],\n",
       " 'LastOID': '578f856df351e181e43c43c4',\n",
       " 'LastProcessedTime': '2016-07-20T14:06:37+00:00',\n",
       " 'Processed': 190,\n",
       " 'QueueSize': 0}"
      ]
     },
     "execution_count": 7,
     "metadata": {},
     "output_type": "execute_result"
    }
   ],
   "source": [
    "MACHINE.status"
   ]
  },
  {
   "cell_type": "markdown",
   "metadata": {},
   "source": [
    "Registering a raised in the status structure is the responsibility of a custom class that every user programmed machine function gets \"wrapped\" in before committed to the machine dask configuration:"
   ]
  },
  {
   "cell_type": "code",
   "execution_count": null,
   "metadata": {
    "collapsed": true
   },
   "outputs": [],
   "source": [
    "class MachineTransform(object):\n",
    "    def __init__(self, machine, fn, pos):\n",
    "        self.machine = machine\n",
    "        self.fn = wrap_transform(fn)\n",
    "        self.ref = \"f{}\".format(pos)\n",
    "\n",
    "    def on_exception(self, e):\n",
    "        self.machine._status['Errored'].append({self.ref: {\"oid\": self.machine._status[\"LastOID\"], \"err\": e.__repr__(), \n",
    "            \"errtime\": time_from_objectidstr(self.machine._status[\"LastOID\"])}})\n",
    "\n",
    "    def on_success(self):\n",
    "        pass\n",
    "\n",
    "    def __call__(self, *args, **kwargs):\n",
    "        try:\n",
    "            return self.fn(*args, **kwargs)\n",
    "            self.on_success()\n",
    "        except Exception as e:\n",
    "            self.on_exception(e)\n",
    "\n",
    "    def __repr__(self):\n",
    "        pass"
   ]
  },
  {
   "cell_type": "markdown",
   "metadata": {},
   "source": [
    "The error information message gets appended to the Machine.status error list with function name, data id, error time (derived from data id), and the string representation of the error (not the actual error), as a dictionary structure as seen above."
   ]
  },
  {
   "cell_type": "markdown",
   "metadata": {},
   "source": [
    "### Displaying status"
   ]
  },
  {
   "cell_type": "markdown",
   "metadata": {},
   "source": [
    "Our display mechanism is simple and builds HTML to be displayed using IPython.display's HTML method. \n",
    "\n",
    "A small display of this information is available via Machine.display_status(): "
   ]
  },
  {
   "cell_type": "code",
   "execution_count": 9,
   "metadata": {
    "collapsed": false
   },
   "outputs": [
    {
     "data": {
      "text/html": [
       "<div style='border:1px; border-style:solid; width:400px; height:auto; float:left;'><b>Last Consumption Time -- 2016-07-20T14:06:37+00:00</b></div>\n",
       "<div style='border:1px; border-style:solid; width:400px; height:auto; float:left;'><b>Last Ingest ID -- 578f856df351e181e43c43c4</b></div>\n",
       "<div style='border:1px; border-style:solid; width:400px; height:auto; float:left;'><b>Total Datum Processed -- 190</b></div>\n",
       "<div style='border:1px; border-style:solid; width:400px; height:auto; float:left;'><b>Current Queue Depth -- 0</b></div>"
      ],
      "text/plain": [
       "<IPython.core.display.HTML object>"
      ]
     },
     "metadata": {},
     "output_type": "display_data"
    }
   ],
   "source": [
    "MACHINE.display_status()"
   ]
  },
  {
   "cell_type": "code",
   "execution_count": null,
   "metadata": {
    "collapsed": true
   },
   "outputs": [],
   "source": [
    "def display_status(status):\n",
    "    stats = MACHINE.status\n",
    "    s0 = \"<div style='border:1px; border-style:solid; width:400px; height:auto; float:left;'><b>Current Ingest Time -- {}</b></div>\".format(stats['CurrentTime'])\n",
    "    s1 = \"<div style='border:1px; border-style:solid; width:400px; height:auto; float:left;'><b>Current Ingest ID -- {}</b></div>\".format(stats['CurrentOID'])\n",
    "    s2 = \"<div style='border:1px; border-style:solid; width:400px; height:auto; float:left;'><b>Total Datum Processed -- {}</b></div>\".format(stats['Processed'])\n",
    "    s3 = \"<div style='border:1px; border-style:solid; width:400px; height:auto; float:left;'><b>Current Queue Depth -- {}</b></div>\".format(stats[\"QueueSize\"])\n",
    "    display(HTML(\"\\n\".join([s0, s1, s2, s3])))"
   ]
  },
  {
   "cell_type": "markdown",
   "metadata": {
    "collapsed": false
   },
   "source": [
    "Although errors are registered in status, information about them are not included in the status display."
   ]
  },
  {
   "cell_type": "markdown",
   "metadata": {},
   "source": [
    "### Discussion"
   ]
  },
  {
   "cell_type": "markdown",
   "metadata": {},
   "source": [
    "Currently, we can check if the machine consumer thread is running and display general information about the machine. We maintain some state information that updates on every get, but is located in the MachineConsumer class because the data is prepared for serialization there, which the status updates with. \n",
    "\n",
    "Obviously there's a lot to do here. Some ideas are described in detail in machine-introspection-testcases.ipynb regarding ways to move forward with the way errors are handled on a macine level as well as potentially better ways to maintain much more information around the individual functions in the dask graph using methods available in the dask api.\n",
    "\n",
    "Individual display message formats can immediately be improved using a pandas or similar kind of ipython-env friendly dataframe native display. "
   ]
  }
 ],
 "metadata": {
  "kernelspec": {
   "display_name": "Python 2",
   "language": "python",
   "name": "python2"
  },
  "language_info": {
   "codemirror_mode": {
    "name": "ipython",
    "version": 2
   },
   "file_extension": ".py",
   "mimetype": "text/x-python",
   "name": "python",
   "nbconvert_exporter": "python",
   "pygments_lexer": "ipython2",
   "version": "2.7.12"
  }
 },
 "nbformat": 4,
 "nbformat_minor": 0
}
